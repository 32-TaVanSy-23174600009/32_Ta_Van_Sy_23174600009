{
 "cells": [
  {
   "cell_type": "markdown",
   "metadata": {},
   "source": [
    "## LAB 2.1. Phân tích dữ liệu khí hậu sử dụng numpy\n",
    "Thời gian hoàn thành: (30 phút)\n",
    "Mục Tiêu:\n",
    " Hiểu và thực hành cách tạo mảng và thao tác cơ bản trên mảng Numpy.\n",
    " Áp dụng fancy indexing và chỉ mục kết hợp để phân tích dữ liệu.\n",
    "Các Bước Thực Hiện:\n",
    "1. Tạo Dữ Liệu Mô Phỏng Nhiệt Độ: (10 phút)\n",
    " Hãy tạo một mảng Numpy mô phỏng dữ liệu nhiệt độ hàng ngày trong một tháng là\n",
    "số thực. Làm tròn dữ liệu đến 2 chữ số sau dấu phẩy\n",
    " Cho biết nhiệt độ trung bình trong tháng là bao nhiêu?\n",
    "2. Phân Tích Xu Hướng Nhiệt Độ: (5-10 phút)\n",
    " Xác định ngày có nhiệt độ cao nhất, thấp nhất cho biết đó là ngày thứ mấy trong\n",
    "tháng?\n",
    " Thống kê sự chênh lệch nhiệt độ giữa các ngày, tìm ngày có sự biến đổi nhiệt độ cao\n",
    "nhất?\n",
    "3. Áp dụng Fancy Indexing: (10 phút)\n",
    "Đưa ra tất cả các ngày có nhiệt độ cao hơn 20 độ C.\n",
    "Lấy nhiệt độ của ngày 5, 10, 15, 20, và 25.\n",
    "Tìm nhiệt độ của các ngày có nhiệt độ trên trung bình.\n",
    "Lấy nhiệt độ của các ngày chẵn/lẻ trong tháng"
   ]
  },
  {
   "cell_type": "code",
   "execution_count": 3,
   "metadata": {},
   "outputs": [
    {
     "name": "stdout",
     "output_type": "stream",
     "text": [
      "nhiet do trung binh trong thang: \n",
      " [14.28 18.75 16.09 26.6  14.48 14.2  28.23 23.04 15.01 20.71 12.37 28.37\n",
      " 12.84 28.48 23.25 18.18 20.99 24.92 10.41 11.12 21.56 28.34 25.61 21.24\n",
      " 28.54 22.36 24.4  16.33 15.31 24.83]\n",
      "trung binh nhiet do trong thang:  20.361333333333334\n"
     ]
    }
   ],
   "source": [
    "import numpy as np\n",
    "# tạo mảng mô phỏng dữ liệu nhiệt hàng ngày trong một tháng với số thực\n",
    "#nhiệt độ trong khoảng 10.0 đến 30.0 độ CC\n",
    "\n",
    "nhiet_do = np.round(np.random.uniform(10.0, 30.0, size = 30), 2)\n",
    "\n",
    "print(\"nhiet do trung binh trong thang: \\n\",nhiet_do)\n",
    "print(\"trung binh nhiet do trong thang: \",np.mean(nhiet_do))"
   ]
  },
  {
   "cell_type": "code",
   "execution_count": 4,
   "metadata": {},
   "outputs": [
    {
     "name": "stdout",
     "output_type": "stream",
     "text": [
      "nhiet do ngay cao nhat trong thang la: 28.54\n",
      "ngay co nhiet do cao nhat trong thang la:  25\n",
      "nhiet do ngay thap nhat trong thang la: 10.41\n",
      "ngay co nhiet do cao nhat trong thang la:  19\n"
     ]
    }
   ],
   "source": [
    "# tìm nhiệt độ cao nhất và thấp nhấtnhất\n",
    "max_temp = np.max(nhiet_do)\n",
    "min_temp = np.min(nhiet_do)\n",
    "\n",
    "# xác định ngày có nhiệt độ cao nhất và thấp nhất\n",
    "# chú ý: ngày được tính từ 1 không phải 00\n",
    "day_max_temp = np.argmax(nhiet_do) + 1\n",
    "\n",
    "day_min_temp = np.argmin(nhiet_do) + 1\n",
    "\n",
    "\n",
    "print(\"nhiet do ngay cao nhat trong thang la:\" , max_temp)\n",
    "print(\"ngay co nhiet do cao nhat trong thang la: \",day_max_temp)\n",
    "\n",
    "print(\"nhiet do ngay thap nhat trong thang la:\" , min_temp)\n",
    "print(\"ngay co nhiet do cao nhat trong thang la: \",day_min_temp)"
   ]
  },
  {
   "cell_type": "code",
   "execution_count": 5,
   "metadata": {},
   "outputs": [
    {
     "name": "stdout",
     "output_type": "stream",
     "text": [
      "chenh lech nhiet do cao nhat la:  16.0\n",
      "ngay chenh lech cao nhat la: 11\n"
     ]
    }
   ],
   "source": [
    "# tạo mảng chứa nhiệt độ của ngày hôm trước(trừ ngày cuối cùng) của mảng nhiet_dodo\n",
    "ngay_truoc = nhiet_do[:-1]\n",
    "\n",
    "# tạo mảng chứa nhiệt độ của ngày hôm sau(trừ ngày đầu tiên ) của mảng nhiệt độđộ\n",
    "ngay_sau = nhiet_do[1:]\n",
    "\n",
    "# tính toán sự chênh lệch nhiệt độ giữa ngày hôm sau và ngày hôm trướctrước\n",
    "chenh_lech = ngay_sau - ngay_truoc\n",
    "\n",
    "# xác định ngày có sự chênh lệch nhiệt độ lớn nhấtnhất\n",
    "dff_max = np.argmax(np.abs(chenh_lech)) + 1     # +1 vì ngày đầu tiên là ngày 1 không phải 0\n",
    "max_chenh_lech = chenh_lech[dff_max - 1]\n",
    "\n",
    "\n",
    "print(\"chenh lech nhiet do cao nhat la: \", max_chenh_lech)\n",
    "print(\"ngay chenh lech cao nhat la:\", dff_max)"
   ]
  },
  {
   "cell_type": "code",
   "execution_count": null,
   "metadata": {},
   "outputs": [],
   "source": [
    "\n",
    "condition = nhiet_do > 20\n",
    "\n",
    "indices = np.where(condition)\n",
    "\n",
    "day_indices = indices[0]"
   ]
  }
 ],
 "metadata": {
  "kernelspec": {
   "display_name": "Python 3",
   "language": "python",
   "name": "python3"
  },
  "language_info": {
   "codemirror_mode": {
    "name": "ipython",
    "version": 3
   },
   "file_extension": ".py",
   "mimetype": "text/x-python",
   "name": "python",
   "nbconvert_exporter": "python",
   "pygments_lexer": "ipython3",
   "version": "3.12.6"
  }
 },
 "nbformat": 4,
 "nbformat_minor": 2
}
