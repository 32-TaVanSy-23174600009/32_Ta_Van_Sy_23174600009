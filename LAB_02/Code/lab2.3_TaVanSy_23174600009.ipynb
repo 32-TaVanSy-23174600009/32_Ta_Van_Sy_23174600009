{
 "cells": [
  {
   "cell_type": "markdown",
   "metadata": {},
   "source": [
    "### LAB 2.3. Phân tích hiệu suất sản xuất dựa trên ca làm việc\n",
    "Thời gian hoàn thành: (45-70 phút)\n",
    "Mục tiêu: Giúp sinh viên củng cố kiến thức và kỹ năng lập trình của mình, đặc biệt là trong\n",
    "lĩnh vực xử lý và phân tích dữ liệu\n",
    "Giả sử có hai tập tin: efficiency.txt và shifts.txt. Tập tin efficiency.txt chứa dữ liệu về hiệu\n",
    "suất sản xuất (đo bằng số lượng sản phẩm hoàn thành) của các nhân viên trong một ngày\n",
    "làm việc, mỗi dòng trong tập tin ứng với số lượng sản phẩm hoàn thành bởi một nhân viên.\n",
    "Tập tin shifts.txt chứa thông tin về ca làm việc của họ ('Morning', 'Afternoon', 'Night'). Mỗi\n",
    "dòng tương ứng với ca làm việc của một nhân viên.\n",
    "Yêu cầu của bài lab như sau:\n",
    "1. Đọc dữ liệu từ 2 tập tin efficiency.txt và shifts.txt vào 2 list là effieiency và shifts : (10-\n",
    "phút)\n",
    "2. Tạo numpy array np_shifts từ list shifts và kiểm tra kiểu dữ liệu của np_shifts. (10 phút)\n",
    "3. Tạo numpy array np_efficiency từ list efficiency và kiểm tra kiểu dữ liệu của\n",
    "np_efficiency. (10 phút)\n",
    "4. Tính hiệu suất sản xuất trung bình của những nhân viên làm việc vào ca 'Morning'. (10\n",
    "phút)\n",
    "5. Tính hiệu suất sản xuất trung bình của những nhân viên làm việc trong các ca khác (Không\n",
    "phải là 'Morning'). (10 phút)\n",
    "6. Tạo mảng dữ liệu có cấu trúc (Structure Array tự định nghĩa workers gồm 'shift' (kiểu\n",
    "văn bản U10) và 'efficiency' (kiểu 'float'). (10 phút)\n",
    "7. Sắp xếp mảng workers theo efficiency, và xác định ca làm việc nào có hiệu suất cao nhất\n",
    "và thấp nhất. (10 phút)"
   ]
  },
  {
   "cell_type": "code",
   "execution_count": null,
   "metadata": {},
   "outputs": [],
   "source": []
  }
 ],
 "metadata": {
  "kernelspec": {
   "display_name": "Python 3",
   "language": "python",
   "name": "python3"
  },
  "language_info": {
   "name": "python",
   "version": "3.12.6"
  }
 },
 "nbformat": 4,
 "nbformat_minor": 2
}
