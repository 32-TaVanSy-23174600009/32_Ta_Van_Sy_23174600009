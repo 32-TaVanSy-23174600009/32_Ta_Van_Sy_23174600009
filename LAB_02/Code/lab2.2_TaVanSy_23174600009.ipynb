{
 "cells": [
  {
   "cell_type": "markdown",
   "metadata": {},
   "source": [
    "## LAB 2.2. Phân tích dữ liệu điểm số sinh viên sử dụng numpy.\n",
    "Thời gian hoàn thành: (45-60 phút)\n",
    "Mục tiêu:\n",
    " Tăng cường kỹ năng sử dụng NumPy\n",
    " Nắm vững kiến thức lý thuyết về xử lý và phân tích dữ liệu sang các tình huống\n",
    "thực tế thông qua việc xử lý dữ liệu từ file CSV.\n",
    " Cách thực hiện các phân tích cơ bản như tính toán tổng, trung bình, độ lệch chuẩn\n",
    "và sử dụng các kỹ thuật như broadcasting và fancy indexing trong NumPy.\n",
    " Kỹ năng giải quyết vấn đề và tư duy lập trình qua việc áp dụng các phương pháp\n",
    "phân tích trên dữ liệu cụ thể.\n",
    "Các Bước Thực Hiện:\n",
    "Giả sử có file dữ liệu ‘diem_hoc_phan.csv’ chứa dữ liệu bao gồm: 'id' , 'tên sinh viên',\n",
    "'HP 1', 'HP 2', 'HP3' các điểm HP1, HP2, HP3 theo thang điểm 10."
   ]
  },
  {
   "cell_type": "markdown",
   "metadata": {},
   "source": [
    "### 1, 1. Đọc Dữ Liệu Từ File CSV: (10 phút)\n",
    " Đọc dữ liệu điểm số từ file 'diem_hp.csv' vào một list.\n",
    " Chuyển đổi list này thành một mảng NumPy để thực hiện các phân tích.Phân Tích\n",
    "Điểm Số:"
   ]
  },
  {
   "cell_type": "code",
   "execution_count": 2,
   "metadata": {},
   "outputs": [
    {
     "data": {
      "text/plain": [
       "[[3.04, 3.39, 6.7],\n",
       " [5.8, 6.41, 6.62],\n",
       " [2.59, 3.57, 9.16],\n",
       " [3.81, 8.78, 9.24],\n",
       " [8.91, 9.64, 6.39]]"
      ]
     },
     "execution_count": 2,
     "metadata": {},
     "output_type": "execute_result"
    }
   ],
   "source": [
    "import csv \n",
    "\n",
    "file_path = 'D:/DHKL17A1HN/LAB_02/Data/diem_hoc_phan.csv'\n",
    "data = []\n",
    "\n",
    "with open(file_path, newline='', encoding='utf-8') as csvfile:\n",
    "    reader = csv.reader(csvfile)\n",
    "    next(reader) # bỏ qua hàng đầu tiên (tiêu đề cộtcột)\n",
    "    '''Xử lý dữ liệu từ mỗi hàng: với mỗi hàng row trong file csv,\n",
    "    code sẽ lấy phần tử từ chỉ số 2 trở đi(row[2:]).\n",
    "    Điều này tương ứng với việc bỏ qua cột 'id' và 'tên sinh viên' \n",
    "    '''\n",
    "\n",
    "    for row in reader:\n",
    "        # chuyển đổi điểm số từ string sang float và thêm vào listlist\n",
    "        data.append([float(score) for score in row[2:]])\n",
    "\n",
    "# hiển thị một phần của dữ liệu để kiểm tratra\n",
    "data[:5] # hiển thị 5 dòng đầu tiêntiên"
   ]
  },
  {
   "cell_type": "markdown",
   "metadata": {},
   "source": [
    "# chuyển đổi list data thành mảng Numpy\n",
    "\n"
   ]
  },
  {
   "cell_type": "code",
   "execution_count": 3,
   "metadata": {},
   "outputs": [
    {
     "data": {
      "text/plain": [
       "array([[3.04, 3.39, 6.7 ],\n",
       "       [5.8 , 6.41, 6.62],\n",
       "       [2.59, 3.57, 9.16],\n",
       "       [3.81, 8.78, 9.24],\n",
       "       [8.91, 9.64, 6.39]])"
      ]
     },
     "execution_count": 3,
     "metadata": {},
     "output_type": "execute_result"
    }
   ],
   "source": [
    "import numpy as np\n",
    "# chuyển list thành mảng Numpy\n",
    "diem_np_array = np.array(data)\n",
    "# hiển thị một phần của mảng để kiểm tra\n",
    "diem_np_array[:5] # hiển thị 5 dòng đầu tiên của mảng Numpy"
   ]
  },
  {
   "cell_type": "markdown",
   "metadata": {},
   "source": [
    "### 2. Qui đổi từ thang điểm 10 sang điểm tín chỉ: (15 phút)\n",
    "Biết rằng:\n",
    "8.5 <= điểm <=10 thì tương ứng điểm ‘A’\n",
    "8.0 <=điểm <=8.4 ứng với điểm ‘B+’\n",
    "7.0<= điểm <8 ứng điểm B\n",
    "6.5 <=điểm<7 điểm C+\n",
    "5.5 <=điểm < 6 điểm C\n",
    "5.0<=điểm < 5.5 điểm D+\n",
    "4.0 <=điểm <5 điểm D\n",
    "điểm < 4 ứng điểm F"
   ]
  },
  {
   "cell_type": "code",
   "execution_count": 4,
   "metadata": {},
   "outputs": [],
   "source": [
    "def chuyen_diem(score):\n",
    "    # chuyển đổi điểm số sang điểm chữ theo tiêu chí đã cho\n",
    "    if 8.5 <= score <= 10:\n",
    "        return 'A'\n",
    "    elif 8.0 <= score < 8.5:\n",
    "        return 'B+'\n",
    "    elif 7.0 <= score < 8.0:\n",
    "        return 'B'\n",
    "    elif 6.5 <= score < 7.0:\n",
    "        return 'C+'\n",
    "    elif 5.5 <= score < 6.5:\n",
    "        return 'C'\n",
    "    elif 5.0 <= score < 5.5:\n",
    "        return 'D+'\n",
    "    elif 4.0 <= score < 5.0:\n",
    "        return 'D'\n",
    "    else:\n",
    "        return 'F'\n",
    "    \n"
   ]
  },
  {
   "cell_type": "markdown",
   "metadata": {},
   "source": [
    "### 3. Chia tách Dữ Liệu theo học phần để phân tích : (5-10 phút)\n",
    "Chia tách dữ liệu để phân tích điểm số của mỗi học phần riêng biệt.\n",
    "4. Phân tích dữ liệu theo từng học phần : (10-15 phút)\n",
    "Phân tích tổng, trung bình, và độ lệch chuẩn cho mỗi học phần.\n",
    "5. Phân tích điểm tổng hợp. (5-10 phút)\n",
    "Tính toán số lượng sinh viên đạt từng loại điểm chữ (A, B+, B,...) trên tổng số học phần."
   ]
  },
  {
   "cell_type": "markdown",
   "metadata": {},
   "source": []
  }
 ],
 "metadata": {
  "kernelspec": {
   "display_name": "Python 3",
   "language": "python",
   "name": "python3"
  },
  "language_info": {
   "codemirror_mode": {
    "name": "ipython",
    "version": 3
   },
   "file_extension": ".py",
   "mimetype": "text/x-python",
   "name": "python",
   "nbconvert_exporter": "python",
   "pygments_lexer": "ipython3",
   "version": "3.12.6"
  }
 },
 "nbformat": 4,
 "nbformat_minor": 2
}
